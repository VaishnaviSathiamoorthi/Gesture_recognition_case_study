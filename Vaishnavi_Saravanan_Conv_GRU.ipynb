{
 "cells": [
  {
   "cell_type": "code",
   "execution_count": 1,
   "id": "7ca50506",
   "metadata": {},
   "outputs": [],
   "source": [
    "import numpy as np\n",
    "import os\n",
    "from imageio import imread\n",
    "from skimage.transform import resize\n",
    "import datetime\n",
    "import os"
   ]
  },
  {
   "cell_type": "markdown",
   "id": "d1966547",
   "metadata": {},
   "source": [
    "### We are going to build base model and TimeDistributed wrapper to apply the Conv model to sequences of input data"
   ]
  },
  {
   "cell_type": "raw",
   "id": "48a44621",
   "metadata": {},
   "source": [
    "We set the random seed so that the results don't vary drastically."
   ]
  },
  {
   "cell_type": "code",
   "execution_count": 2,
   "id": "4ee37704",
   "metadata": {},
   "outputs": [],
   "source": [
    "np.random.seed(30)\n",
    "import random as rn\n",
    "rn.seed(30)\n",
    "from keras import backend as K\n",
    "import tensorflow as tf\n",
    "tf.random.set_seed(30)"
   ]
  },
  {
   "cell_type": "raw",
   "id": "fc066b2f",
   "metadata": {},
   "source": [
    "In this block, you read the folder names for training and validation. You also set the batch_size here. Note that you set the batch size in such a way that you are able to use the GPU in full capacity. You keep increasing the batch size until the machine throws an error."
   ]
  },
  {
   "cell_type": "code",
   "execution_count": 3,
   "id": "7b070460",
   "metadata": {},
   "outputs": [],
   "source": [
    "train_doc = np.random.permutation(open('/home/datasets/Project_data/train.csv').readlines())\n",
    "val_doc = np.random.permutation(open('/home/datasets/Project_data/val.csv').readlines())\n",
    "batch_size = 16 #experiment with the batch size\n",
    "img_height = 84\n",
    "img_width = 84"
   ]
  },
  {
   "cell_type": "raw",
   "id": "5a84117f",
   "metadata": {},
   "source": [
    "Generator\n",
    "This is one of the most important part of the code. The overall structure of the generator has been given. In the generator, you are going to preprocess the images as you have images of 2 different dimensions as well as create a batch of video frames. You have to experiment with img_idx, y,z and normalization such that you get high accuracy."
   ]
  },
  {
   "cell_type": "code",
   "execution_count": 4,
   "id": "a44281c9",
   "metadata": {},
   "outputs": [],
   "source": [
    "def generator(source_path, folder_list, batch_size):\n",
    "    print( 'Source path = ', source_path, '; batch size =', batch_size)\n",
    "    img_idx = [0,2,4,6,8,10,12,14,16,18,20,22,24,26,28]\n",
    "    while True:\n",
    "        t = np.random.permutation(folder_list)\n",
    "        num_batches = int(len(t)/batch_size)\n",
    "        for batch in range(num_batches):\n",
    "            batch_data = np.zeros((batch_size,15,120,120,3))\n",
    "            batch_labels = np.zeros((batch_size,5))\n",
    "            for folder in range(batch_size):\n",
    "                imgs = os.listdir(source_path+'/'+ t[folder + (batch*batch_size)].split(';')[0])\n",
    "                for idx,item in enumerate(img_idx):\n",
    "                    image = imread(source_path+'/'+ t[folder + (batch*batch_size)].strip().split(';')[0]+'/'+imgs[item]).astype(np.float32)\n",
    "                    if image.shape[1] == 160:\n",
    "                        image = image[:,20:140,:].astype(np.float32)\n",
    "                    else:\n",
    "                        image = resize(image,(120,120)).astype(np.float32)\n",
    "                    \n",
    "                    batch_data[folder,idx,:,:,0] = image[:,:,0] - 104\n",
    "                    batch_data[folder,idx,:,:,1] = image[:,:,1] - 117\n",
    "                    batch_data[folder,idx,:,:,2] = image[:,:,2] - 123\n",
    "                    \n",
    "                batch_labels[folder, int(t[folder + (batch*batch_size)].strip().split(';')[2])] = 1\n",
    "            yield batch_data, batch_labels\n",
    "\n",
    "        if (len(t)%batch_size) != 0:\n",
    "            batch_data = np.zeros((len(t)%batch_size,15,120,120,3))\n",
    "            batch_labels = np.zeros((len(t)%batch_size,5))\n",
    "            for folder in range(len(t)%batch_size):\n",
    "                imgs = os.listdir(source_path+'/'+ t[folder + (num_batches*batch_size)].split(';')[0])\n",
    "                for idx,item in enumerate(img_idx):\n",
    "                    image = imread(source_path+'/'+ t[folder + (num_batches*batch_size)].strip().split(';')[0]+'/'+imgs[item]).astype(np.float32)\n",
    "                    if image.shape[1] == 160:\n",
    "                        image = image[:,20:140,:].astype(np.float32)\n",
    "                    else:\n",
    "                        image = resize(image,(120,120)).astype(np.float32)\n",
    "\n",
    "                    batch_data[folder,idx,:,:,0] = image[:,:,0] - 104\n",
    "                    batch_data[folder,idx,:,:,1] = image[:,:,1] - 117\n",
    "                    batch_data[folder,idx,:,:,2] = image[:,:,2] - 123\n",
    "\n",
    "                batch_labels[folder, int(t[folder + (num_batches*batch_size)].strip().split(';')[2])] = 1\n",
    "\n",
    "            yield batch_data, batch_labels"
   ]
  },
  {
   "cell_type": "code",
   "execution_count": 5,
   "id": "b4604828",
   "metadata": {},
   "outputs": [
    {
     "name": "stdout",
     "output_type": "stream",
     "text": [
      "# training sequences = 663\n",
      "# validation sequences = 100\n",
      "# epochs = 20\n"
     ]
    }
   ],
   "source": [
    "curr_dt_time = datetime.datetime.now()\n",
    "train_path = '/home/datasets/Project_data/train'\n",
    "val_path = '/home/datasets/Project_data/val'\n",
    "num_train_sequences = len(train_doc)\n",
    "print('# training sequences =', num_train_sequences)\n",
    "num_val_sequences = len(val_doc)\n",
    "print('# validation sequences =', num_val_sequences)\n",
    "num_epochs = 20\n",
    "print ('# epochs =', num_epochs)"
   ]
  },
  {
   "cell_type": "raw",
   "id": "455922d0",
   "metadata": {},
   "source": [
    "Model: The base model (Feature Extractor) is VGG16, pre-trained on data and sequential model created and 'TimeDistributed' wrapper is used to apply the Conv model to sequences of input data. \n",
    "A Dropout layer with a dropout rate of 0.5 is applied after the GRU layers to prevent overfitting.\n",
    "Two Dense layers are added for classification. The first has 8 units with ReLU activation, and the final output layer has 5 units with a softmax activation, indicating it's a multi-class classification problem with 5 classes\n"
   ]
  },
  {
   "cell_type": "code",
   "execution_count": 6,
   "id": "3da2cbcf",
   "metadata": {},
   "outputs": [
    {
     "name": "stderr",
     "output_type": "stream",
     "text": [
      "2023-10-04 17:34:00.390062: W tensorflow/core/common_runtime/gpu/gpu_bfc_allocator.cc:39] Overriding allow_growth setting because the TF_FORCE_GPU_ALLOW_GROWTH environment variable is set. Original config value was 0.\n",
      "2023-10-04 17:34:00.390123: I tensorflow/core/common_runtime/gpu/gpu_device.cc:1525] Created device /job:localhost/replica:0/task:0/device:GPU:0 with 14796 MB memory:  -> device: 0, name: Quadro RTX 5000, pci bus id: 0000:3d:00.0, compute capability: 7.5\n"
     ]
    },
    {
     "name": "stdout",
     "output_type": "stream",
     "text": [
      "Downloading data from https://storage.googleapis.com/tensorflow/keras-applications/vgg16/vgg16_weights_tf_dim_ordering_tf_kernels_notop.h5\n",
      "58892288/58889256 [==============================] - 5s 0us/step\n",
      "58900480/58889256 [==============================] - 5s 0us/step\n"
     ]
    }
   ],
   "source": [
    "from keras.models import Sequential, Model\n",
    "from keras.layers import Dense, GRU, Dropout, Flatten, TimeDistributed\n",
    "from keras.callbacks import ModelCheckpoint, ReduceLROnPlateau\n",
    "from keras import optimizers\n",
    "from keras.applications.vgg16 import VGG16\n",
    "    \n",
    "base_model = VGG16(include_top=False, weights='imagenet', input_shape=(120,120,3))\n",
    "x = base_model.output\n",
    "x = Flatten()(x)\n",
    "#x.add(Dropout(0.5))\n",
    "features = Dense(64, activation='relu')(x)\n",
    "conv_model = Model(inputs=base_model.input, outputs=features)\n",
    "    \n",
    "for layer in base_model.layers:\n",
    "    layer.trainable = False\n",
    "        \n",
    "model = Sequential()\n",
    "model.add(TimeDistributed(conv_model, input_shape=(15,120,120,3)))\n",
    "model.add(GRU(32, return_sequences=True))\n",
    "model.add(GRU(16))\n",
    "model.add(Dropout(0.5))\n",
    "model.add(Dense(8, activation='relu'))\n",
    "model.add(Dense(5, activation='softmax'))"
   ]
  },
  {
   "cell_type": "code",
   "execution_count": 7,
   "id": "cd6b325e",
   "metadata": {},
   "outputs": [
    {
     "name": "stdout",
     "output_type": "stream",
     "text": [
      "Model: \"sequential\"\n",
      "_________________________________________________________________\n",
      " Layer (type)                Output Shape              Param #   \n",
      "=================================================================\n",
      " time_distributed (TimeDistr  (None, 15, 64)           15009664  \n",
      " ibuted)                                                         \n",
      "                                                                 \n",
      " gru (GRU)                   (None, 15, 32)            9408      \n",
      "                                                                 \n",
      " gru_1 (GRU)                 (None, 16)                2400      \n",
      "                                                                 \n",
      " dropout (Dropout)           (None, 16)                0         \n",
      "                                                                 \n",
      " dense_1 (Dense)             (None, 8)                 136       \n",
      "                                                                 \n",
      " dense_2 (Dense)             (None, 5)                 45        \n",
      "                                                                 \n",
      "=================================================================\n",
      "Total params: 15,021,653\n",
      "Trainable params: 306,965\n",
      "Non-trainable params: 14,714,688\n",
      "_________________________________________________________________\n"
     ]
    }
   ],
   "source": [
    "model.summary()"
   ]
  },
  {
   "cell_type": "code",
   "execution_count": 8,
   "id": "b7bd6e06",
   "metadata": {},
   "outputs": [
    {
     "name": "stdout",
     "output_type": "stream",
     "text": [
      "Model: \"sequential\"\n",
      "_________________________________________________________________\n",
      " Layer (type)                Output Shape              Param #   \n",
      "=================================================================\n",
      " time_distributed (TimeDistr  (None, 15, 64)           15009664  \n",
      " ibuted)                                                         \n",
      "                                                                 \n",
      " gru (GRU)                   (None, 15, 32)            9408      \n",
      "                                                                 \n",
      " gru_1 (GRU)                 (None, 16)                2400      \n",
      "                                                                 \n",
      " dropout (Dropout)           (None, 16)                0         \n",
      "                                                                 \n",
      " dense_1 (Dense)             (None, 8)                 136       \n",
      "                                                                 \n",
      " dense_2 (Dense)             (None, 5)                 45        \n",
      "                                                                 \n",
      "=================================================================\n",
      "Total params: 15,021,653\n",
      "Trainable params: 306,965\n",
      "Non-trainable params: 14,714,688\n",
      "_________________________________________________________________\n",
      "None\n"
     ]
    }
   ],
   "source": [
    "optimiser = 'adam'\n",
    "model.compile(optimizer=optimiser, loss='categorical_crossentropy', metrics=['categorical_accuracy'])\n",
    "print (model.summary())"
   ]
  },
  {
   "cell_type": "raw",
   "id": "7a822062",
   "metadata": {},
   "source": [
    "Let us create the train_generator and the val_generator which will be used in .fit_generator."
   ]
  },
  {
   "cell_type": "code",
   "execution_count": 9,
   "id": "1e815859",
   "metadata": {},
   "outputs": [],
   "source": [
    "train_generator = generator(train_path, train_doc, batch_size)\n",
    "val_generator = generator(val_path, val_doc, batch_size)"
   ]
  },
  {
   "cell_type": "code",
   "execution_count": 10,
   "id": "55d65fa2",
   "metadata": {},
   "outputs": [
    {
     "name": "stdout",
     "output_type": "stream",
     "text": [
      "WARNING:tensorflow:`period` argument is deprecated. Please use `save_freq` to specify the frequency in number of batches seen.\n",
      "WARNING:tensorflow:`epsilon` argument is deprecated and will be removed, use `min_delta` instead.\n"
     ]
    }
   ],
   "source": [
    "model_name = 'model_init_conv_lstm' + '_' + str(curr_dt_time).replace(' ','').replace(':','_') + '/'\n",
    "    \n",
    "if not os.path.exists(model_name):\n",
    "    os.mkdir(model_name)\n",
    "        \n",
    "filepath = model_name + 'model-{epoch:05d}-{loss:.5f}-{categorical_accuracy:.5f}-{val_loss:.5f}-{val_categorical_accuracy:.5f}.h5'\n",
    "\n",
    "checkpoint = ModelCheckpoint(filepath, monitor='val_loss', verbose=1, save_best_only=False, save_weights_only=False, mode='auto', period=1)\n",
    "\n",
    "LR = ReduceLROnPlateau(monitor='val_loss', factor=0.5, patience=2, verbose=1, mode='min', epsilon=0.0001, cooldown=0, min_lr=0.00001)\n",
    "callbacks_list = [checkpoint, LR]"
   ]
  },
  {
   "cell_type": "code",
   "execution_count": 11,
   "id": "728ca13c",
   "metadata": {},
   "outputs": [],
   "source": [
    "if (num_train_sequences%batch_size) == 0:\n",
    "    steps_per_epoch = int(num_train_sequences/batch_size)\n",
    "else:\n",
    "    steps_per_epoch = (num_train_sequences//batch_size) + 1\n",
    "\n",
    "if (num_val_sequences%batch_size) == 0:\n",
    "    validation_steps = int(num_val_sequences/batch_size)\n",
    "else:\n",
    "    validation_steps = (num_val_sequences//batch_size) + 1"
   ]
  },
  {
   "cell_type": "raw",
   "id": "14968f31",
   "metadata": {},
   "source": [
    "Let us now fit the model. This will start training the model and with the help of the checkpoints, you'll be able to save the model at the end of each epoch."
   ]
  },
  {
   "cell_type": "code",
   "execution_count": null,
   "id": "07c4d1bb",
   "metadata": {},
   "outputs": [
    {
     "name": "stderr",
     "output_type": "stream",
     "text": [
      "/tmp/ipykernel_312/3383535347.py:1: UserWarning: `Model.fit_generator` is deprecated and will be removed in a future version. Please use `Model.fit`, which supports generators.\n",
      "  history = model.fit_generator(train_generator, steps_per_epoch=steps_per_epoch, epochs=num_epochs, verbose=1,\n"
     ]
    },
    {
     "name": "stdout",
     "output_type": "stream",
     "text": [
      "Source path =  /home/datasets/Project_data/train ; batch size = 16\n",
      "Epoch 1/20\n"
     ]
    },
    {
     "name": "stderr",
     "output_type": "stream",
     "text": [
      "2023-10-04 17:35:29.676182: I tensorflow/stream_executor/cuda/cuda_dnn.cc:377] Loaded cuDNN version 8302\n"
     ]
    },
    {
     "name": "stdout",
     "output_type": "stream",
     "text": [
      "42/42 [==============================] - ETA: 0s - loss: 1.6378 - categorical_accuracy: 0.2247Source path =  /home/datasets/Project_data/val ; batch size = 16\n",
      "\n",
      "Epoch 00001: saving model to model_init_conv_lstm_2023-10-0417_33_48.151882/model-00001-1.63783-0.22474-1.60966-0.21000.h5\n",
      "42/42 [==============================] - 67s 1s/step - loss: 1.6378 - categorical_accuracy: 0.2247 - val_loss: 1.6097 - val_categorical_accuracy: 0.2100 - lr: 0.0010\n",
      "Epoch 2/20\n",
      "42/42 [==============================] - ETA: 0s - loss: 1.5647 - categorical_accuracy: 0.2821\n",
      "Epoch 00002: saving model to model_init_conv_lstm_2023-10-0417_33_48.151882/model-00002-1.56475-0.28205-1.51315-0.28000.h5\n",
      "42/42 [==============================] - 60s 1s/step - loss: 1.5647 - categorical_accuracy: 0.2821 - val_loss: 1.5131 - val_categorical_accuracy: 0.2800 - lr: 0.0010\n",
      "Epoch 3/20\n",
      "42/42 [==============================] - ETA: 0s - loss: 1.5058 - categorical_accuracy: 0.3258\n",
      "Epoch 00003: saving model to model_init_conv_lstm_2023-10-0417_33_48.151882/model-00003-1.50576-0.32579-1.44307-0.39000.h5\n",
      "42/42 [==============================] - 59s 1s/step - loss: 1.5058 - categorical_accuracy: 0.3258 - val_loss: 1.4431 - val_categorical_accuracy: 0.3900 - lr: 0.0010\n",
      "Epoch 4/20\n",
      "42/42 [==============================] - ETA: 0s - loss: 1.3811 - categorical_accuracy: 0.4404\n",
      "Epoch 00004: saving model to model_init_conv_lstm_2023-10-0417_33_48.151882/model-00004-1.38109-0.44042-1.25806-0.50000.h5\n",
      "42/42 [==============================] - 60s 1s/step - loss: 1.3811 - categorical_accuracy: 0.4404 - val_loss: 1.2581 - val_categorical_accuracy: 0.5000 - lr: 0.0010\n",
      "Epoch 5/20\n",
      "42/42 [==============================] - ETA: 0s - loss: 1.2417 - categorical_accuracy: 0.4902\n",
      "Epoch 00005: saving model to model_init_conv_lstm_2023-10-0417_33_48.151882/model-00005-1.24168-0.49020-1.14868-0.58000.h5\n",
      "42/42 [==============================] - 59s 1s/step - loss: 1.2417 - categorical_accuracy: 0.4902 - val_loss: 1.1487 - val_categorical_accuracy: 0.5800 - lr: 0.0010\n",
      "Epoch 6/20\n",
      "42/42 [==============================] - ETA: 0s - loss: 1.0815 - categorical_accuracy: 0.5611\n",
      "Epoch 00006: saving model to model_init_conv_lstm_2023-10-0417_33_48.151882/model-00006-1.08151-0.56109-0.97351-0.62000.h5\n",
      "42/42 [==============================] - 59s 1s/step - loss: 1.0815 - categorical_accuracy: 0.5611 - val_loss: 0.9735 - val_categorical_accuracy: 0.6200 - lr: 0.0010\n",
      "Epoch 7/20\n",
      "42/42 [==============================] - ETA: 0s - loss: 0.9830 - categorical_accuracy: 0.6214\n",
      "Epoch 00007: saving model to model_init_conv_lstm_2023-10-0417_33_48.151882/model-00007-0.98298-0.62142-0.94250-0.66000.h5\n",
      "42/42 [==============================] - 59s 1s/step - loss: 0.9830 - categorical_accuracy: 0.6214 - val_loss: 0.9425 - val_categorical_accuracy: 0.6600 - lr: 0.0010\n",
      "Epoch 8/20\n",
      "42/42 [==============================] - ETA: 0s - loss: 0.8911 - categorical_accuracy: 0.6335\n",
      "Epoch 00008: saving model to model_init_conv_lstm_2023-10-0417_33_48.151882/model-00008-0.89114-0.63348-0.85565-0.68000.h5\n",
      "42/42 [==============================] - 61s 1s/step - loss: 0.8911 - categorical_accuracy: 0.6335 - val_loss: 0.8556 - val_categorical_accuracy: 0.6800 - lr: 0.0010\n",
      "Epoch 9/20\n",
      "42/42 [==============================] - ETA: 0s - loss: 0.8069 - categorical_accuracy: 0.7014\n",
      "Epoch 00009: saving model to model_init_conv_lstm_2023-10-0417_33_48.151882/model-00009-0.80687-0.70136-0.80690-0.74000.h5\n",
      "42/42 [==============================] - 58s 1s/step - loss: 0.8069 - categorical_accuracy: 0.7014 - val_loss: 0.8069 - val_categorical_accuracy: 0.7400 - lr: 0.0010\n",
      "Epoch 10/20\n",
      "42/42 [==============================] - ETA: 0s - loss: 0.7019 - categorical_accuracy: 0.7360\n",
      "Epoch 00010: saving model to model_init_conv_lstm_2023-10-0417_33_48.151882/model-00010-0.70194-0.73605-0.82993-0.70000.h5\n",
      "42/42 [==============================] - 64s 2s/step - loss: 0.7019 - categorical_accuracy: 0.7360 - val_loss: 0.8299 - val_categorical_accuracy: 0.7000 - lr: 0.0010\n",
      "Epoch 11/20\n",
      "42/42 [==============================] - ETA: 0s - loss: 0.6168 - categorical_accuracy: 0.7768\n",
      "Epoch 00011: saving model to model_init_conv_lstm_2023-10-0417_33_48.151882/model-00011-0.61679-0.77677-0.67413-0.78000.h5\n",
      "42/42 [==============================] - 58s 1s/step - loss: 0.6168 - categorical_accuracy: 0.7768 - val_loss: 0.6741 - val_categorical_accuracy: 0.7800 - lr: 0.0010\n",
      "Epoch 12/20\n",
      "42/42 [==============================] - ETA: 0s - loss: 0.5250 - categorical_accuracy: 0.8401\n",
      "Epoch 00012: saving model to model_init_conv_lstm_2023-10-0417_33_48.151882/model-00012-0.52505-0.84012-0.70742-0.73000.h5\n",
      "42/42 [==============================] - 61s 1s/step - loss: 0.5250 - categorical_accuracy: 0.8401 - val_loss: 0.7074 - val_categorical_accuracy: 0.7300 - lr: 0.0010\n",
      "Epoch 13/20\n",
      "42/42 [==============================] - ETA: 0s - loss: 0.5388 - categorical_accuracy: 0.8341\n",
      "Epoch 00013: saving model to model_init_conv_lstm_2023-10-0417_33_48.151882/model-00013-0.53882-0.83409-0.82966-0.70000.h5\n",
      "\n",
      "Epoch 00013: ReduceLROnPlateau reducing learning rate to 0.0005000000237487257.\n",
      "42/42 [==============================] - 58s 1s/step - loss: 0.5388 - categorical_accuracy: 0.8341 - val_loss: 0.8297 - val_categorical_accuracy: 0.7000 - lr: 0.0010\n",
      "Epoch 14/20\n",
      "42/42 [==============================] - ETA: 0s - loss: 0.4357 - categorical_accuracy: 0.8688\n",
      "Epoch 00014: saving model to model_init_conv_lstm_2023-10-0417_33_48.151882/model-00014-0.43567-0.86878-0.63047-0.77000.h5\n",
      "42/42 [==============================] - 57s 1s/step - loss: 0.4357 - categorical_accuracy: 0.8688 - val_loss: 0.6305 - val_categorical_accuracy: 0.7700 - lr: 5.0000e-04\n",
      "Epoch 15/20\n",
      "42/42 [==============================] - ETA: 0s - loss: 0.4040 - categorical_accuracy: 0.8718\n",
      "Epoch 00015: saving model to model_init_conv_lstm_2023-10-0417_33_48.151882/model-00015-0.40403-0.87179-0.56029-0.80000.h5\n",
      "42/42 [==============================] - 58s 1s/step - loss: 0.4040 - categorical_accuracy: 0.8718 - val_loss: 0.5603 - val_categorical_accuracy: 0.8000 - lr: 5.0000e-04\n",
      "Epoch 16/20\n",
      "42/42 [==============================] - ETA: 0s - loss: 0.3463 - categorical_accuracy: 0.8974\n",
      "Epoch 00016: saving model to model_init_conv_lstm_2023-10-0417_33_48.151882/model-00016-0.34625-0.89744-0.55167-0.81000.h5\n",
      "42/42 [==============================] - 57s 1s/step - loss: 0.3463 - categorical_accuracy: 0.8974 - val_loss: 0.5517 - val_categorical_accuracy: 0.8100 - lr: 5.0000e-04\n",
      "Epoch 17/20\n",
      "42/42 [==============================] - ETA: 0s - loss: 0.3451 - categorical_accuracy: 0.9005\n",
      "Epoch 00017: saving model to model_init_conv_lstm_2023-10-0417_33_48.151882/model-00017-0.34511-0.90045-0.52898-0.79000.h5\n",
      "42/42 [==============================] - 59s 1s/step - loss: 0.3451 - categorical_accuracy: 0.9005 - val_loss: 0.5290 - val_categorical_accuracy: 0.7900 - lr: 5.0000e-04\n",
      "Epoch 18/20\n",
      "42/42 [==============================] - ETA: 0s - loss: 0.2863 - categorical_accuracy: 0.9382\n",
      "Epoch 00018: saving model to model_init_conv_lstm_2023-10-0417_33_48.151882/model-00018-0.28631-0.93816-0.45648-0.84000.h5\n",
      "42/42 [==============================] - 62s 2s/step - loss: 0.2863 - categorical_accuracy: 0.9382 - val_loss: 0.4565 - val_categorical_accuracy: 0.8400 - lr: 5.0000e-04\n",
      "Epoch 19/20\n",
      "42/42 [==============================] - ETA: 0s - loss: 0.2509 - categorical_accuracy: 0.9397\n",
      "Epoch 00019: saving model to model_init_conv_lstm_2023-10-0417_33_48.151882/model-00019-0.25095-0.93967-0.68017-0.76000.h5\n",
      "42/42 [==============================] - 65s 2s/step - loss: 0.2509 - categorical_accuracy: 0.9397 - val_loss: 0.6802 - val_categorical_accuracy: 0.7600 - lr: 5.0000e-04\n",
      "Epoch 20/20\n",
      "42/42 [==============================] - ETA: 0s - loss: 0.2499 - categorical_accuracy: 0.9321"
     ]
    }
   ],
   "source": [
    "history = model.fit_generator(train_generator, steps_per_epoch=steps_per_epoch, epochs=num_epochs, verbose=1, \n",
    "                    callbacks=callbacks_list, validation_data=val_generator, \n",
    "                    validation_steps=validation_steps, class_weight=None, workers=1, initial_epoch=0)"
   ]
  }
 ],
 "metadata": {
  "kernelspec": {
   "display_name": "Python 3 (ipykernel)",
   "language": "python",
   "name": "python3"
  },
  "language_info": {
   "codemirror_mode": {
    "name": "ipython",
    "version": 3
   },
   "file_extension": ".py",
   "mimetype": "text/x-python",
   "name": "python",
   "nbconvert_exporter": "python",
   "pygments_lexer": "ipython3",
   "version": "3.8.10"
  }
 },
 "nbformat": 4,
 "nbformat_minor": 5
}
