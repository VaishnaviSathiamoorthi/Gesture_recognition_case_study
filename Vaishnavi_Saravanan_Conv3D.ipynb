{
 "cells": [
  {
   "cell_type": "markdown",
   "metadata": {},
   "source": [
    "# Gesture Recognition\n",
    "In this group project, you are going to build a 3D Conv model that will be able to predict the 5 gestures correctly. Please import the following libraries to get started. Once you have completed the code you can download the notebook for making a submission."
   ]
  },
  {
   "cell_type": "code",
   "execution_count": 3,
   "metadata": {},
   "outputs": [],
   "source": [
    "import numpy as np\n",
    "import os\n",
    "from imageio import imread\n",
    "from skimage.transform import resize\n",
    "import datetime\n",
    "import os"
   ]
  },
  {
   "cell_type": "markdown",
   "metadata": {},
   "source": [
    "We set the random seed so that the results don't vary drastically."
   ]
  },
  {
   "cell_type": "code",
   "execution_count": 4,
   "metadata": {},
   "outputs": [],
   "source": [
    "np.random.seed(30)\n",
    "import random as rn\n",
    "rn.seed(30)\n",
    "from tensorflow import keras\n",
    "import tensorflow as tf\n",
    "tf.random.set_seed(30)"
   ]
  },
  {
   "cell_type": "markdown",
   "metadata": {},
   "source": [
    "In this block, you read the folder names for training and validation. You also set the `batch_size` here. Note that you set the batch size in such a way that you are able to use the GPU in full capacity. You keep increasing the batch size until the machine throws an error."
   ]
  },
  {
   "cell_type": "markdown",
   "metadata": {},
   "source": [
    "**data path: /home/datasets/Project_data**"
   ]
  },
  {
   "cell_type": "code",
   "execution_count": 7,
   "metadata": {},
   "outputs": [],
   "source": [
    "train_doc = np.random.permutation(open('D:/PGP/Assignments/Gesture/Vaishnavi/Project_data/train.csv').readlines())\n",
    "val_doc = np.random.permutation(open('D:/PGP/Assignments/Gesture/Vaishnavi/Project_data/val.csv').readlines())\n",
    "batch_size = 16 #experiment with the batch size\n",
    "img_height = 84\n",
    "img_width = 84"
   ]
  },
  {
   "cell_type": "markdown",
   "metadata": {},
   "source": [
    "## Generator\n",
    "This is one of the most important part of the code. The overall structure of the generator has been given. In the generator, you are going to preprocess the images as you have images of 2 different dimensions as well as create a batch of video frames. You have to experiment with `img_idx`, `y`,`z` and normalization such that you get high accuracy."
   ]
  },
  {
   "cell_type": "code",
   "execution_count": 8,
   "metadata": {},
   "outputs": [],
   "source": [
    "def generator(source_path, folder_list, batch_size):\n",
    "    print( 'Source path = ', source_path, '; batch size =', batch_size)\n",
    "    img_idx = [0,1,2,4,6,8,10,12,14,16,18,20,22,24,26,27,28,29] #create a list of image numbers you want to use for a particular video\n",
    "    while True:\n",
    "        t = np.random.permutation(folder_list)\n",
    "        num_batches = int(len(t)/batch_size) # calculate the number of batches\n",
    "        for batch in range(num_batches): # we iterate over the number of batches\n",
    "            batch_data = np.zeros((batch_size,len(img_idx),img_height,img_width,3)) # x is the number of images you use for each video, (y,z) is the final size of the input images and 3 is the number of channels RGB\n",
    "            batch_labels = np.zeros((batch_size,5)) # batch_labels is the one hot representation of the output\n",
    "            for folder in range(batch_size): # iterate over the batch_size\n",
    "                imgs = os.listdir(source_path+'/'+ t[folder + (batch*batch_size)].split(';')[0]) # read all the images in the folder\n",
    "                for idx,item in enumerate(img_idx): #  Iterate iver the frames/images of a folder to read them in\n",
    "                    image = imread(source_path+'/'+ t[folder + (batch*batch_size)].strip().split(';')[0]+'/'+imgs[item]).astype(np.float32)\n",
    "                    \n",
    "                    #crop the images and resize them. Note that the images are of 2 different shape \n",
    "                    #and the conv3D will throw error if the inputs in a batch have different shapes\n",
    "                    if image.shape[1] == 160:\n",
    "                        image = resize(image[:,20:140,:],(84,84)).astype(np.float32)\n",
    "                    else:\n",
    "                        image = resize(image,(84,84)).astype(np.float32)\n",
    "                    \n",
    "                    #batch_data[folder,idx,:,:,0] = #normalise and feed in the image\n",
    "                    #batch_data[folder,idx,:,:,1] = #normalise and feed in the image\n",
    "                    #batch_data[folder,idx,:,:,2] = #normalise and feed in the image\n",
    "                    batch_data[folder,idx,:,:,0] = image[:,:,0] - 104\n",
    "                    batch_data[folder,idx,:,:,1] = image[:,:,1] - 117\n",
    "                    batch_data[folder,idx,:,:,2] = image[:,:,2] - 123\n",
    "                    \n",
    "                batch_labels[folder, int(t[folder + (batch*batch_size)].strip().split(';')[2])] = 1\n",
    "            yield batch_data, batch_labels #you yield the batch_data and the batch_labels, remember what does yield do\n",
    "\n",
    "        \n",
    "        # write the code for the remaining data points which are left after full batches\n",
    "            if (len(t)%batch_size) != 0:\n",
    "                batch_data = np.zeros((len(t)%batch_size,18,84,84,3))\n",
    "                batch_labels = np.zeros((len(t)%batch_size,5))\n",
    "                for folder in range(len(t)%batch_size):\n",
    "                    imgs = os.listdir(source_path+'/'+ t[folder + (num_batches*batch_size)].split(';')[0])\n",
    "                    for idx,item in enumerate(img_idx):\n",
    "                        image = imread(source_path+'/'+ t[folder + (num_batches*batch_size)].strip().split(';')[0]+'/'+imgs[item]).astype(np.float32)\n",
    "                        if image.shape[1] == 160:\n",
    "                            image = resize(image[:,20:140,:],(84,84)).astype(np.float32)\n",
    "                        else:\n",
    "                            image = resize(image,(84,84)).astype(np.float32)\n",
    "\n",
    "                        batch_data[folder,idx,:,:,0] = image[:,:,0] - 104\n",
    "                        batch_data[folder,idx,:,:,1] = image[:,:,1] - 117\n",
    "                        batch_data[folder,idx,:,:,2] = image[:,:,2] - 123\n",
    "\n",
    "                    batch_labels[folder, int(t[folder + (num_batches*batch_size)].strip().split(';')[2])] = 1\n",
    "\n",
    "                yield batch_data, batch_labels\n"
   ]
  },
  {
   "cell_type": "markdown",
   "metadata": {},
   "source": [
    "Note here that a video is represented above in the generator as (number of images, height, width, number of channels). Take this into consideration while creating the model architecture."
   ]
  },
  {
   "cell_type": "code",
   "execution_count": 9,
   "metadata": {},
   "outputs": [
    {
     "name": "stdout",
     "output_type": "stream",
     "text": [
      "# training sequences = 663\n",
      "# validation sequences = 100\n",
      "# epochs = 20\n"
     ]
    }
   ],
   "source": [
    "curr_dt_time = datetime.datetime.now()\n",
    "train_path = 'D:/PGP/Assignments/Gesture/Vaishnavi/Project_data/train'\n",
    "val_path = 'D:/PGP/Assignments/Gesture/Vaishnavi/Project_data/val'\n",
    "num_train_sequences = len(train_doc)\n",
    "print('# training sequences =', num_train_sequences)\n",
    "num_val_sequences = len(val_doc)\n",
    "print('# validation sequences =', num_val_sequences)\n",
    "num_epochs = 20 # choose the number of epochs\n",
    "print ('# epochs =', num_epochs)"
   ]
  },
  {
   "cell_type": "markdown",
   "metadata": {},
   "source": [
    "## Model\n",
    "Here you make the model using different functionalities that Keras provides. Remember to use `Conv3D` and `MaxPooling3D` and not `Conv2D` and `Maxpooling2D` for a 3D convolution model. You would want to use `TimeDistributed` while building a Conv2D + RNN model. Also remember that the last layer is the softmax. Design the network in such a way that the model is able to give good accuracy on the least number of parameters so that it can fit in the memory of the webcam."
   ]
  },
  {
   "cell_type": "code",
   "execution_count": 10,
   "metadata": {},
   "outputs": [],
   "source": [
    "from tensorflow.keras.models import Sequential\n",
    "from tensorflow.keras.layers import Dense, GRU, Dropout, Flatten, BatchNormalization, Activation, Conv3D, MaxPooling3D\n",
    "from tensorflow.keras.callbacks import ModelCheckpoint, ReduceLROnPlateau\n",
    "from tensorflow.keras import optimizers\n",
    "\n",
    "#write your model here\n",
    "\n",
    "model = Sequential()\n",
    "model.add(Conv3D(64, (3,3,3), strides=(1,1,1), padding='same', input_shape=(18,84,84,3)))\n",
    "model.add(BatchNormalization())\n",
    "model.add(Activation('elu'))\n",
    "model.add(MaxPooling3D(pool_size=(2,2,1), strides=(2,2,1)))\n",
    "\n",
    "model.add(Conv3D(128, (3,3,3), strides=(1,1,1), padding='same'))\n",
    "model.add(BatchNormalization())\n",
    "model.add(Activation('elu'))\n",
    "model.add(MaxPooling3D(pool_size=(2,2,2), strides=(2,2,2)))\n",
    "\n",
    "model.add(Dropout(0.25))\n",
    "\n",
    "model.add(Conv3D(256, (3,3,3), strides=(1,1,1), padding='same'))\n",
    "model.add(BatchNormalization())\n",
    "model.add(Activation('elu'))\n",
    "model.add(MaxPooling3D(pool_size=(2,2,2), strides=(2,2,2)))\n",
    "\n",
    "model.add(Dropout(0.25))\n",
    "\n",
    "model.add(Conv3D(256, (3,3,3), strides=(1,1,1), padding='same'))\n",
    "model.add(BatchNormalization())\n",
    "model.add(Activation('elu'))\n",
    "model.add(MaxPooling3D(pool_size=(2,2,2), strides=(2,2,2)))\n",
    "\n",
    "model.add(Flatten())\n",
    "model.add(Dropout(0.5))\n",
    "model.add(Dense(512, activation='elu'))\n",
    "model.add(Dropout(0.5))\n"
   ]
  },
  {
   "cell_type": "code",
   "execution_count": 11,
   "metadata": {},
   "outputs": [
    {
     "name": "stdout",
     "output_type": "stream",
     "text": [
      "Model: \"sequential_1\"\n",
      "_________________________________________________________________\n",
      " Layer (type)                Output Shape              Param #   \n",
      "=================================================================\n",
      " conv3d_1 (Conv3D)           (None, 18, 84, 84, 64)    5248      \n",
      "                                                                 \n",
      " batch_normalization_1 (Bat  (None, 18, 84, 84, 64)    256       \n",
      " chNormalization)                                                \n",
      "                                                                 \n",
      " activation_1 (Activation)   (None, 18, 84, 84, 64)    0         \n",
      "                                                                 \n",
      " max_pooling3d_1 (MaxPoolin  (None, 9, 42, 84, 64)     0         \n",
      " g3D)                                                            \n",
      "                                                                 \n",
      " conv3d_2 (Conv3D)           (None, 9, 42, 84, 128)    221312    \n",
      "                                                                 \n",
      " batch_normalization_2 (Bat  (None, 9, 42, 84, 128)    512       \n",
      " chNormalization)                                                \n",
      "                                                                 \n",
      " activation_2 (Activation)   (None, 9, 42, 84, 128)    0         \n",
      "                                                                 \n",
      " max_pooling3d_2 (MaxPoolin  (None, 4, 21, 42, 128)    0         \n",
      " g3D)                                                            \n",
      "                                                                 \n",
      " dropout (Dropout)           (None, 4, 21, 42, 128)    0         \n",
      "                                                                 \n",
      " conv3d_3 (Conv3D)           (None, 4, 21, 42, 256)    884992    \n",
      "                                                                 \n",
      " batch_normalization_3 (Bat  (None, 4, 21, 42, 256)    1024      \n",
      " chNormalization)                                                \n",
      "                                                                 \n",
      " activation_3 (Activation)   (None, 4, 21, 42, 256)    0         \n",
      "                                                                 \n",
      " max_pooling3d_3 (MaxPoolin  (None, 2, 10, 21, 256)    0         \n",
      " g3D)                                                            \n",
      "                                                                 \n",
      " dropout_1 (Dropout)         (None, 2, 10, 21, 256)    0         \n",
      "                                                                 \n",
      " conv3d_4 (Conv3D)           (None, 2, 10, 21, 256)    1769728   \n",
      "                                                                 \n",
      " batch_normalization_4 (Bat  (None, 2, 10, 21, 256)    1024      \n",
      " chNormalization)                                                \n",
      "                                                                 \n",
      " activation_4 (Activation)   (None, 2, 10, 21, 256)    0         \n",
      "                                                                 \n",
      " max_pooling3d_4 (MaxPoolin  (None, 1, 5, 10, 256)     0         \n",
      " g3D)                                                            \n",
      "                                                                 \n",
      " flatten (Flatten)           (None, 12800)             0         \n",
      "                                                                 \n",
      " dropout_2 (Dropout)         (None, 12800)             0         \n",
      "                                                                 \n",
      " dense (Dense)               (None, 512)               6554112   \n",
      "                                                                 \n",
      " dropout_3 (Dropout)         (None, 512)               0         \n",
      "                                                                 \n",
      " dense_1 (Dense)             (None, 5)                 2565      \n",
      "                                                                 \n",
      "=================================================================\n",
      "Total params: 9440773 (36.01 MB)\n",
      "Trainable params: 9439365 (36.01 MB)\n",
      "Non-trainable params: 1408 (5.50 KB)\n",
      "_________________________________________________________________\n"
     ]
    }
   ],
   "source": [
    "model.add(Dense(5, activation='softmax'))\n",
    "model.summary()"
   ]
  },
  {
   "cell_type": "markdown",
   "metadata": {},
   "source": [
    "Now that you have written the model, the next step is to `compile` the model. When you print the `summary` of the model, you'll see the total number of parameters you have to train."
   ]
  },
  {
   "cell_type": "code",
   "execution_count": 12,
   "metadata": {
    "scrolled": true
   },
   "outputs": [
    {
     "name": "stdout",
     "output_type": "stream",
     "text": [
      "Model: \"sequential_1\"\n",
      "_________________________________________________________________\n",
      " Layer (type)                Output Shape              Param #   \n",
      "=================================================================\n",
      " conv3d_1 (Conv3D)           (None, 18, 84, 84, 64)    5248      \n",
      "                                                                 \n",
      " batch_normalization_1 (Bat  (None, 18, 84, 84, 64)    256       \n",
      " chNormalization)                                                \n",
      "                                                                 \n",
      " activation_1 (Activation)   (None, 18, 84, 84, 64)    0         \n",
      "                                                                 \n",
      " max_pooling3d_1 (MaxPoolin  (None, 9, 42, 84, 64)     0         \n",
      " g3D)                                                            \n",
      "                                                                 \n",
      " conv3d_2 (Conv3D)           (None, 9, 42, 84, 128)    221312    \n",
      "                                                                 \n",
      " batch_normalization_2 (Bat  (None, 9, 42, 84, 128)    512       \n",
      " chNormalization)                                                \n",
      "                                                                 \n",
      " activation_2 (Activation)   (None, 9, 42, 84, 128)    0         \n",
      "                                                                 \n",
      " max_pooling3d_2 (MaxPoolin  (None, 4, 21, 42, 128)    0         \n",
      " g3D)                                                            \n",
      "                                                                 \n",
      " dropout (Dropout)           (None, 4, 21, 42, 128)    0         \n",
      "                                                                 \n",
      " conv3d_3 (Conv3D)           (None, 4, 21, 42, 256)    884992    \n",
      "                                                                 \n",
      " batch_normalization_3 (Bat  (None, 4, 21, 42, 256)    1024      \n",
      " chNormalization)                                                \n",
      "                                                                 \n",
      " activation_3 (Activation)   (None, 4, 21, 42, 256)    0         \n",
      "                                                                 \n",
      " max_pooling3d_3 (MaxPoolin  (None, 2, 10, 21, 256)    0         \n",
      " g3D)                                                            \n",
      "                                                                 \n",
      " dropout_1 (Dropout)         (None, 2, 10, 21, 256)    0         \n",
      "                                                                 \n",
      " conv3d_4 (Conv3D)           (None, 2, 10, 21, 256)    1769728   \n",
      "                                                                 \n",
      " batch_normalization_4 (Bat  (None, 2, 10, 21, 256)    1024      \n",
      " chNormalization)                                                \n",
      "                                                                 \n",
      " activation_4 (Activation)   (None, 2, 10, 21, 256)    0         \n",
      "                                                                 \n",
      " max_pooling3d_4 (MaxPoolin  (None, 1, 5, 10, 256)     0         \n",
      " g3D)                                                            \n",
      "                                                                 \n",
      " flatten (Flatten)           (None, 12800)             0         \n",
      "                                                                 \n",
      " dropout_2 (Dropout)         (None, 12800)             0         \n",
      "                                                                 \n",
      " dense (Dense)               (None, 512)               6554112   \n",
      "                                                                 \n",
      " dropout_3 (Dropout)         (None, 512)               0         \n",
      "                                                                 \n",
      " dense_1 (Dense)             (None, 5)                 2565      \n",
      "                                                                 \n",
      "=================================================================\n",
      "Total params: 9440773 (36.01 MB)\n",
      "Trainable params: 9439365 (36.01 MB)\n",
      "Non-trainable params: 1408 (5.50 KB)\n",
      "_________________________________________________________________\n",
      "None\n"
     ]
    }
   ],
   "source": [
    "optimiser = 'adam' #SGD(learning_rate=0.001, decay=1e-6, momentum=0.7, nesterov=True)\n",
    "model.compile(optimizer=optimiser, loss='categorical_crossentropy', metrics=['categorical_accuracy'])\n",
    "print (model.summary())"
   ]
  },
  {
   "cell_type": "markdown",
   "metadata": {},
   "source": [
    "Let us create the `train_generator` and the `val_generator` which will be used in `.fit_generator`."
   ]
  },
  {
   "cell_type": "code",
   "execution_count": 13,
   "metadata": {},
   "outputs": [],
   "source": [
    "train_generator = generator(train_path, train_doc, batch_size)\n",
    "val_generator = generator(val_path, val_doc, batch_size)"
   ]
  },
  {
   "cell_type": "code",
   "execution_count": 14,
   "metadata": {},
   "outputs": [],
   "source": [
    "model_name = 'model_init' + '_' + str(curr_dt_time).replace(' ','').replace(':','_') + '/'\n",
    "    \n",
    "if not os.path.exists(model_name):\n",
    "    os.mkdir(model_name)\n",
    "        \n",
    "filepath = model_name + 'model-epoch_{epoch:05d}.h5'\n",
    "\n",
    "checkpoint = ModelCheckpoint(filepath, monitor='val_loss', verbose=1, save_best_only=False, save_weights_only=False, mode='auto',save_freq = num_epochs)\n",
    "\n",
    "\n",
    "LR = ReduceLROnPlateau(monitor='val_loss', factor=0.2,\n",
    "                              patience=5, min_lr=0.001)\n",
    "# write the REducelronplateau code here\n",
    "callbacks_list = [checkpoint, LR]"
   ]
  },
  {
   "cell_type": "markdown",
   "metadata": {},
   "source": [
    "The `steps_per_epoch` and `validation_steps` are used by `fit` method to decide the number of next() calls it need to make."
   ]
  },
  {
   "cell_type": "code",
   "execution_count": 15,
   "metadata": {},
   "outputs": [],
   "source": [
    "if (num_train_sequences%batch_size) == 0:\n",
    "    steps_per_epoch = int(num_train_sequences/batch_size)\n",
    "else:\n",
    "    steps_per_epoch = (num_train_sequences//batch_size) + 1\n",
    "\n",
    "if (num_val_sequences%batch_size) == 0:\n",
    "    validation_steps = int(num_val_sequences/batch_size)\n",
    "else:\n",
    "    validation_steps = (num_val_sequences//batch_size) + 1"
   ]
  },
  {
   "cell_type": "markdown",
   "metadata": {},
   "source": [
    "Let us now fit the model. This will start training the model and with the help of the checkpoints, you'll be able to save the model at the end of each epoch."
   ]
  },
  {
   "cell_type": "code",
   "execution_count": 16,
   "metadata": {},
   "outputs": [
    {
     "name": "stdout",
     "output_type": "stream",
     "text": [
      "Source path =  D:/PGP/Assignments/Gesture/Vaishnavi/Project_data/train ; batch size = 16\n"
     ]
    },
    {
     "name": "stderr",
     "output_type": "stream",
     "text": [
      "C:\\Users\\sarav\\AppData\\Local\\Temp\\ipykernel_16880\\2150413809.py:13: DeprecationWarning: Starting with ImageIO v3 the behavior of this function will switch to that of iio.v3.imread. To keep the current behavior (and make this warning disappear) use `import imageio.v2 as imageio` or call `imageio.v2.imread` directly.\n",
      "  image = imread(source_path+'/'+ t[folder + (batch*batch_size)].strip().split(';')[0]+'/'+imgs[item]).astype(np.float32)\n"
     ]
    },
    {
     "name": "stdout",
     "output_type": "stream",
     "text": [
      "Epoch 1/20\n"
     ]
    },
    {
     "name": "stderr",
     "output_type": "stream",
     "text": [
      "C:\\Users\\sarav\\AppData\\Local\\Temp\\ipykernel_16880\\2150413809.py:40: DeprecationWarning: Starting with ImageIO v3 the behavior of this function will switch to that of iio.v3.imread. To keep the current behavior (and make this warning disappear) use `import imageio.v2 as imageio` or call `imageio.v2.imread` directly.\n",
      "  image = imread(source_path+'/'+ t[folder + (num_batches*batch_size)].strip().split(';')[0]+'/'+imgs[item]).astype(np.float32)\n"
     ]
    },
    {
     "name": "stdout",
     "output_type": "stream",
     "text": [
      "19/32 [================>.............] - ETA: 3:03 - loss: 14.2641 - categorical_accuracy: 0.3587\n",
      "Epoch 1: saving model to model_init_2023-10-0322_34_48.473507\\model-epoch_00001.h5\n",
      "20/32 [=================>............] - ETA: 2:46 - loss: 13.9601 - categorical_accuracy: 0.3696"
     ]
    },
    {
     "name": "stderr",
     "output_type": "stream",
     "text": [
      "D:\\Python\\Lib\\site-packages\\keras\\src\\engine\\training.py:3000: UserWarning: You are saving your model as an HDF5 file via `model.save()`. This file format is considered legacy. We recommend using instead the native Keras format, e.g. `model.save('my_model.keras')`.\n",
      "  saving_api.save_model(\n"
     ]
    },
    {
     "name": "stdout",
     "output_type": "stream",
     "text": [
      "32/32 [==============================] - ETA: 0s - loss: 10.5332 - categorical_accuracy: 0.4429 Source path =  D:/PGP/Assignments/Gesture/Vaishnavi/Project_data/val ; batch size = 16\n",
      "32/32 [==============================] - 467s 14s/step - loss: 10.5332 - categorical_accuracy: 0.4429 - val_loss: 371.0333 - val_categorical_accuracy: 0.2632 - lr: 0.0010\n",
      "Epoch 2/20\n",
      " 7/32 [=====>........................] - ETA: 5:59 - loss: 4.7587 - categorical_accuracy: 0.5412\n",
      "Epoch 2: saving model to model_init_2023-10-0322_34_48.473507\\model-epoch_00002.h5\n",
      "27/32 [========================>.....] - ETA: 1:11 - loss: 3.8454 - categorical_accuracy: 0.5651\n",
      "Epoch 2: saving model to model_init_2023-10-0322_34_48.473507\\model-epoch_00002.h5\n",
      "32/32 [==============================] - 465s 14s/step - loss: 3.5758 - categorical_accuracy: 0.5761 - val_loss: 90.5685 - val_categorical_accuracy: 0.2500 - lr: 0.0010\n",
      "Epoch 3/20\n",
      "15/32 [=============>................] - ETA: 3:59 - loss: 2.3608 - categorical_accuracy: 0.5311\n",
      "Epoch 3: saving model to model_init_2023-10-0322_34_48.473507\\model-epoch_00003.h5\n",
      "32/32 [==============================] - 458s 14s/step - loss: 2.2170 - categorical_accuracy: 0.5435 - val_loss: 16.6076 - val_categorical_accuracy: 0.2500 - lr: 0.0010\n",
      "Epoch 4/20\n",
      " 3/32 [=>............................] - ETA: 6:50 - loss: 1.3483 - categorical_accuracy: 0.6154\n",
      "Epoch 4: saving model to model_init_2023-10-0322_34_48.473507\\model-epoch_00004.h5\n",
      "23/32 [====================>.........] - ETA: 2:04 - loss: 1.4163 - categorical_accuracy: 0.6134\n",
      "Epoch 4: saving model to model_init_2023-10-0322_34_48.473507\\model-epoch_00004.h5\n",
      "32/32 [==============================] - 451s 14s/step - loss: 1.3997 - categorical_accuracy: 0.6087 - val_loss: 6.6294 - val_categorical_accuracy: 0.2656 - lr: 0.0010\n",
      "Epoch 5/20\n",
      "11/32 [=========>....................] - ETA: 4:48 - loss: 1.4663 - categorical_accuracy: 0.5344\n",
      "Epoch 5: saving model to model_init_2023-10-0322_34_48.473507\\model-epoch_00005.h5\n",
      "31/32 [============================>.] - ETA: 13s - loss: 1.2492 - categorical_accuracy: 0.6150\n",
      "Epoch 5: saving model to model_init_2023-10-0322_34_48.473507\\model-epoch_00005.h5\n",
      "32/32 [==============================] - 449s 14s/step - loss: 1.2273 - categorical_accuracy: 0.6223 - val_loss: 2.9036 - val_categorical_accuracy: 0.4844 - lr: 0.0010\n",
      "Epoch 6/20\n",
      "19/32 [================>.............] - ETA: 2:59 - loss: 1.2140 - categorical_accuracy: 0.6009\n",
      "Epoch 6: saving model to model_init_2023-10-0322_34_48.473507\\model-epoch_00006.h5\n",
      "32/32 [==============================] - 451s 14s/step - loss: 1.2317 - categorical_accuracy: 0.6168 - val_loss: 2.9179 - val_categorical_accuracy: 0.4375 - lr: 0.0010\n",
      "Epoch 7/20\n",
      " 7/32 [=====>........................] - ETA: 5:43 - loss: 1.0701 - categorical_accuracy: 0.6706\n",
      "Epoch 7: saving model to model_init_2023-10-0322_34_48.473507\\model-epoch_00007.h5\n",
      "27/32 [========================>.....] - ETA: 1:08 - loss: 1.0812 - categorical_accuracy: 0.6381\n",
      "Epoch 7: saving model to model_init_2023-10-0322_34_48.473507\\model-epoch_00007.h5\n",
      "32/32 [==============================] - 449s 14s/step - loss: 1.0478 - categorical_accuracy: 0.6603 - val_loss: 1.4061 - val_categorical_accuracy: 0.6719 - lr: 0.0010\n",
      "Epoch 8/20\n",
      "15/32 [=============>................] - ETA: 3:57 - loss: 1.2188 - categorical_accuracy: 0.6836\n",
      "Epoch 8: saving model to model_init_2023-10-0322_34_48.473507\\model-epoch_00008.h5\n",
      "32/32 [==============================] - 454s 14s/step - loss: 1.3305 - categorical_accuracy: 0.6332 - val_loss: 2.0596 - val_categorical_accuracy: 0.5469 - lr: 0.0010\n",
      "Epoch 9/20\n",
      " 3/32 [=>............................] - ETA: 6:40 - loss: 2.2023 - categorical_accuracy: 0.6410\n",
      "Epoch 9: saving model to model_init_2023-10-0322_34_48.473507\\model-epoch_00009.h5\n",
      "23/32 [====================>.........] - ETA: 2:04 - loss: 1.1081 - categorical_accuracy: 0.6543\n",
      "Epoch 9: saving model to model_init_2023-10-0322_34_48.473507\\model-epoch_00009.h5\n",
      "32/32 [==============================] - 452s 14s/step - loss: 1.0959 - categorical_accuracy: 0.6630 - val_loss: 1.6545 - val_categorical_accuracy: 0.4531 - lr: 0.0010\n",
      "Epoch 10/20\n",
      "11/32 [=========>....................] - ETA: 4:50 - loss: 1.4498 - categorical_accuracy: 0.5725\n",
      "Epoch 10: saving model to model_init_2023-10-0322_34_48.473507\\model-epoch_00010.h5\n",
      "31/32 [============================>.] - ETA: 13s - loss: 1.2863 - categorical_accuracy: 0.6260\n",
      "Epoch 10: saving model to model_init_2023-10-0322_34_48.473507\\model-epoch_00010.h5\n",
      "32/32 [==============================] - 451s 14s/step - loss: 1.2637 - categorical_accuracy: 0.6332 - val_loss: 1.8834 - val_categorical_accuracy: 0.5156 - lr: 0.0010\n",
      "Epoch 11/20\n",
      "19/32 [================>.............] - ETA: 2:59 - loss: 1.1322 - categorical_accuracy: 0.6547\n",
      "Epoch 11: saving model to model_init_2023-10-0322_34_48.473507\\model-epoch_00011.h5\n",
      "32/32 [==============================] - 449s 14s/step - loss: 1.0554 - categorical_accuracy: 0.6576 - val_loss: 1.3081 - val_categorical_accuracy: 0.5781 - lr: 0.0010\n",
      "Epoch 12/20\n",
      " 7/32 [=====>........................] - ETA: 5:49 - loss: 0.7644 - categorical_accuracy: 0.6941\n",
      "Epoch 12: saving model to model_init_2023-10-0322_34_48.473507\\model-epoch_00012.h5\n",
      "27/32 [========================>.....] - ETA: 1:09 - loss: 0.8025 - categorical_accuracy: 0.7048\n",
      "Epoch 12: saving model to model_init_2023-10-0322_34_48.473507\\model-epoch_00012.h5\n",
      "32/32 [==============================] - 451s 14s/step - loss: 0.7544 - categorical_accuracy: 0.7255 - val_loss: 0.7518 - val_categorical_accuracy: 0.7812 - lr: 0.0010\n",
      "Epoch 13/20\n",
      "15/32 [=============>................] - ETA: 3:55 - loss: 0.8821 - categorical_accuracy: 0.7288\n",
      "Epoch 13: saving model to model_init_2023-10-0322_34_48.473507\\model-epoch_00013.h5\n",
      "32/32 [==============================] - 451s 14s/step - loss: 0.9055 - categorical_accuracy: 0.7011 - val_loss: 1.8495 - val_categorical_accuracy: 0.5781 - lr: 0.0010\n",
      "Epoch 14/20\n",
      " 3/32 [=>............................] - ETA: 6:38 - loss: 1.3977 - categorical_accuracy: 0.7179\n",
      "Epoch 14: saving model to model_init_2023-10-0322_34_48.473507\\model-epoch_00014.h5\n",
      "23/32 [====================>.........] - ETA: 2:03 - loss: 1.2099 - categorical_accuracy: 0.6989\n",
      "Epoch 14: saving model to model_init_2023-10-0322_34_48.473507\\model-epoch_00014.h5\n",
      "32/32 [==============================] - 449s 14s/step - loss: 1.1409 - categorical_accuracy: 0.7174 - val_loss: 1.6291 - val_categorical_accuracy: 0.5938 - lr: 0.0010\n",
      "Epoch 15/20\n",
      "11/32 [=========>....................] - ETA: 4:49 - loss: 0.8011 - categorical_accuracy: 0.6794\n",
      "Epoch 15: saving model to model_init_2023-10-0322_34_48.473507\\model-epoch_00015.h5\n",
      "31/32 [============================>.] - ETA: 13s - loss: 0.9483 - categorical_accuracy: 0.6981\n",
      "Epoch 15: saving model to model_init_2023-10-0322_34_48.473507\\model-epoch_00015.h5\n",
      "32/32 [==============================] - 451s 14s/step - loss: 0.9330 - categorical_accuracy: 0.7011 - val_loss: 1.5376 - val_categorical_accuracy: 0.6094 - lr: 0.0010\n",
      "Epoch 16/20\n",
      "19/32 [================>.............] - ETA: 2:58 - loss: 0.8440 - categorical_accuracy: 0.7713\n",
      "Epoch 16: saving model to model_init_2023-10-0322_34_48.473507\\model-epoch_00016.h5\n",
      "32/32 [==============================] - 449s 14s/step - loss: 0.9148 - categorical_accuracy: 0.7364 - val_loss: 0.5781 - val_categorical_accuracy: 0.8125 - lr: 0.0010\n",
      "Epoch 17/20\n",
      " 7/32 [=====>........................] - ETA: 5:44 - loss: 0.7197 - categorical_accuracy: 0.7412\n",
      "Epoch 17: saving model to model_init_2023-10-0322_34_48.473507\\model-epoch_00017.h5\n",
      "27/32 [========================>.....] - ETA: 1:08 - loss: 0.5967 - categorical_accuracy: 0.8095\n",
      "Epoch 17: saving model to model_init_2023-10-0322_34_48.473507\\model-epoch_00017.h5\n",
      "32/32 [==============================] - 450s 14s/step - loss: 0.5867 - categorical_accuracy: 0.8125 - val_loss: 1.0235 - val_categorical_accuracy: 0.6406 - lr: 0.0010\n",
      "Epoch 18/20\n",
      "15/32 [=============>................] - ETA: 3:54 - loss: 0.5066 - categorical_accuracy: 0.8136\n",
      "Epoch 18: saving model to model_init_2023-10-0322_34_48.473507\\model-epoch_00018.h5\n",
      "32/32 [==============================] - 450s 14s/step - loss: 0.4921 - categorical_accuracy: 0.8125 - val_loss: 1.3551 - val_categorical_accuracy: 0.6875 - lr: 0.0010\n",
      "Epoch 19/20\n",
      " 3/32 [=>............................] - ETA: 6:39 - loss: 0.5375 - categorical_accuracy: 0.7692\n",
      "Epoch 19: saving model to model_init_2023-10-0322_34_48.473507\\model-epoch_00019.h5\n",
      "23/32 [====================>.........] - ETA: 2:03 - loss: 0.7326 - categorical_accuracy: 0.7658\n",
      "Epoch 19: saving model to model_init_2023-10-0322_34_48.473507\\model-epoch_00019.h5\n",
      "32/32 [==============================] - 449s 14s/step - loss: 0.6800 - categorical_accuracy: 0.7717 - val_loss: 1.6673 - val_categorical_accuracy: 0.5938 - lr: 0.0010\n",
      "Epoch 20/20\n",
      "11/32 [=========>....................] - ETA: 4:49 - loss: 1.0216 - categorical_accuracy: 0.6947\n",
      "Epoch 20: saving model to model_init_2023-10-0322_34_48.473507\\model-epoch_00020.h5\n",
      "31/32 [============================>.] - ETA: 13s - loss: 0.8308 - categorical_accuracy: 0.7396\n",
      "Epoch 20: saving model to model_init_2023-10-0322_34_48.473507\\model-epoch_00020.h5\n",
      "32/32 [==============================] - 454s 14s/step - loss: 0.8152 - categorical_accuracy: 0.7446 - val_loss: 1.1598 - val_categorical_accuracy: 0.6719 - lr: 0.0010\n"
     ]
    }
   ],
   "source": [
    "steps_per_epoch = 2048 //64\n",
    "#num_epochs = 20\n",
    "#,steps_per_epoch=steps_per_epoch\n",
    "#validation_steps=validation_steps,\n",
    "history = model.fit(train_generator,batch_size=batch_size,steps_per_epoch=steps_per_epoch,epochs=num_epochs, verbose=1, \n",
    "                    callbacks=callbacks_list, validation_data=val_generator, \n",
    "                    validation_steps=validation_steps,class_weight=None, workers=1, initial_epoch=0)\n"
   ]
  },
  {
   "cell_type": "code",
   "execution_count": 20,
   "metadata": {},
   "outputs": [
    {
     "data": {
      "image/png": "[encoded data removed]",
      "text/plain": [
       "<Figure size 800x800 with 2 Axes>"
      ]
     },
     "metadata": {},
     "output_type": "display_data"
    }
   ],
   "source": [
    "import matplotlib.pyplot as plt\n",
    "acc = history.history['categorical_accuracy']\n",
    "val_acc = history.history['val_categorical_accuracy']\n",
    "\n",
    "loss = history.history['loss']\n",
    "val_loss = history.history['val_loss']\n",
    "\n",
    "epochs_range = range(num_epochs)\n",
    "\n",
    "plt.figure(figsize=(8, 8))\n",
    "plt.subplot(1, 2, 1)\n",
    "plt.plot(epochs_range, acc, label='Training Accuracy')\n",
    "plt.plot(epochs_range, val_acc, label='Validation Accuracy')\n",
    "plt.legend(loc='lower right')\n",
    "plt.title('Training and Validation Accuracy')\n",
    "\n",
    "plt.subplot(1, 2, 2)\n",
    "plt.plot(epochs_range, loss, label='Training Loss')\n",
    "plt.plot(epochs_range, val_loss, label='Validation Loss')\n",
    "plt.legend(loc='upper right')\n",
    "plt.title('Training and Validation Loss')\n",
    "plt.show()"
   ]
  }
 ],
 "metadata": {
  "kernelspec": {
   "display_name": "Python 3 (ipykernel)",
   "language": "python",
   "name": "python3"
  },
  "language_info": {
   "codemirror_mode": {
    "name": "ipython",
    "version": 3
   },
   "file_extension": ".py",
   "mimetype": "text/x-python",
   "name": "python",
   "nbconvert_exporter": "python",
   "pygments_lexer": "ipython3",
   "version": "3.11.5"
  }
 },
 "nbformat": 4,
 "nbformat_minor": 4
}
